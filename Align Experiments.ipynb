{
 "cells": [
  {
   "cell_type": "markdown",
   "metadata": {},
   "source": [
    "# Aligning Parameters\n",
    "\n",
    "In this notebook we are taking one language (for example Spanish), reading the output from ExtractNamedTempates and:\n",
    "\n",
    "* Counting templates frequency\n",
    "* Counting parameters frequency\n",
    "* Getting the pages where templates occurs\n",
    "* Getting a second language (Ex: Catalan), trying to find the equivalent template (using Wikidata)\n",
    "* Comparing the paramers and values in those pairs of language"
   ]
  },
  {
   "cell_type": "markdown",
   "metadata": {},
   "source": [
    "## Define basic functions"
   ]
  },
  {
   "cell_type": "code",
   "execution_count": 50,
   "metadata": {},
   "outputs": [],
   "source": [
    "%matplotlib inline\n",
    "from matplotlib import pyplot\n",
    "import requests\n",
    "import json\n",
    "import mwparserfromhell\n",
    "from scipy.spatial import distance\n",
    "from collections import Counter\n",
    "\n",
    "def getWikidataPair(titles,lang,target):\n",
    "    \"\"\"\n",
    "    titles: list of pages titles\n",
    "    lang:source lang (same of the titles)\n",
    "    target: target lang\n",
    "    returns a list: page_title_source,page_title_target\n",
    "    \"\"\"\n",
    "    response= requests.get(\"https://www.wikidata.org/w/api.php?action=wbgetentities&sites=%swiki&titles=%s&props=sitelinks&format=json\" % (lang,'|'.join(titles)))\n",
    "    output = []\n",
    "    for entity,data in  response.json()['entities'].items():\n",
    "        if data['sitelinks'].get(target+'wiki'):\n",
    "            s=data['sitelinks'][lang+'wiki']['title']\n",
    "            t=data['sitelinks'][target+'wiki']['title']\n",
    "            output.append([s,t])\n",
    "    return output\n",
    "\n",
    "def getWikidataID(titles,lang):\n",
    "    \"\"\"\n",
    "    titles: list of pages titles\n",
    "    lang:source lang (same of the titles)\n",
    "    target: target lang\n",
    "    returns a list: page_title_source,page_title_target\n",
    "    \"\"\"\n",
    "    response= requests.get(\"https://www.wikidata.org/w/api.php?action=wbgetentities&sites=%swiki&titles=%s&props=sitelinks&format=json\" % (lang,'|'.join(titles)))\n",
    "    output = []\n",
    "    for entity,data in  response.json()['entities'].items():\n",
    "        if data['sitelinks'].get(target+'wiki'):\n",
    "            s=data['sitelinks'][lang+'wiki']['title']\n",
    "            t=data['sitelinks'][target+'wiki']['title']\n",
    "            output.append([s,t])\n",
    "    return output\n",
    "\n",
    "\n",
    "#Get articles\n",
    "def getContent(title,lang):\n",
    "    \"\"\"\n",
    "    title: page title\n",
    "    lang: lang\n",
    "    returns wikitext\n",
    "    \"\"\"\n",
    "    url = \"https://%s.wikipedia.org/w/api.php?action=query&prop=revisions&rvprop=content&format=json&formatversion=2&titles=%s\" % (lang,title)\n",
    "    response = requests.get(url)\n",
    "    content = response.json()['query']['pages'][0]['revisions'][0]['content']\n",
    "    return content\n",
    "\n",
    "#get all the templates with named parameters\n",
    "def extract_templates(text):\n",
    "    wikicode = mwparserfromhell.parse(text)\n",
    "    tmpdict = {}\n",
    "    for template in wikicode.filter_templates():\n",
    "        if template.params:\n",
    "            values = dict([[t.name.strip(),t.value.strip()] for t in template.params if t.showkey])\n",
    "            if values:\n",
    "                tmpdict[template.name.strip()] = values\n",
    "    return tmpdict\n",
    "\n",
    "def getTemplateData(template,lang):\n",
    "    url =  \"https://%s.wikipedia.org/w/api.php?action=templatedata&titles=%s&formatversion=2&redirects=1\" % (lang,template)\n",
    "    #print(url)\n",
    "    resp = requests.get(url)\n",
    "    data = list(resp.json()['pages'].values())[0]\n",
    "    return data\n",
    "\n",
    "\n",
    "def apply_transform(vec, transform):\n",
    "        \"\"\"\n",
    "        Apply the given transformation to the vector space\n",
    "\n",
    "        Right-multiplies given transform with embeddings E:\n",
    "            E = E * transform\n",
    "\n",
    "        Transform can either be a string with a filename to a\n",
    "        text file containing a ndarray (compat. with np.loadtxt)\n",
    "        or a numpy ndarray.\n",
    "        \"\"\"\n",
    "        transmat = np.loadtxt(transform) if isinstance(transform, str) else transform\n",
    "        return np.matmul(vec, transmat)\n"
   ]
  },
  {
   "cell_type": "markdown",
   "metadata": {},
   "source": [
    "## Aggregating templates coming from ExtractNamedTempates.ipynb\n",
    "\n",
    "Note that all templantes name are capitalized and parameters are in low case"
   ]
  },
  {
   "cell_type": "code",
   "execution_count": 2,
   "metadata": {},
   "outputs": [],
   "source": [
    "lang = 'es'\n",
    "f = open('templates-articles_%s.json' % lang)\n",
    "templates = {}\n",
    "params = {}\n",
    "for l in f:\n",
    "    tmp = json.loads(l)\n",
    "    page = tmp[1]\n",
    "    for template,param in tmp[2].items():\n",
    "        template = template.capitalize()\n",
    "        templates[template] = templates.get(template,{'Tcount':0,'Tpages':[],'Params':{}})\n",
    "        templates[template]['Tcount'] += 1\n",
    "        templates[template]['Tpages'].append(page)\n",
    "        for name,val in param.items():\n",
    "            name = name.lower()\n",
    "            templates[template]['Params'][name] =templates[template]['Params'].get(name,0)\n",
    "            templates[template]['Params'][name] +=1\n",
    "            params[name] = params.get(name,0)\n",
    "            params[name] += 1"
   ]
  },
  {
   "cell_type": "code",
   "execution_count": 3,
   "metadata": {},
   "outputs": [],
   "source": [
    "targetLang = 'en'\n",
    "f = open('templates-articles_%s.json' % targetLang)\n",
    "templatesTarget = {}\n",
    "paramsTarget = {}\n",
    "for l in f:\n",
    "    tmp = json.loads(l)\n",
    "    page = tmp[1]\n",
    "    for template,param in tmp[2].items():\n",
    "        template = template.capitalize()\n",
    "        templatesTarget[template] = templatesTarget.get(template,{'Tcount':0,'Tpages':[],'Params':{}})\n",
    "        templatesTarget[template]['Tcount'] += 1\n",
    "        templatesTarget[template]['Tpages'].append(page)\n",
    "        for name,val in param.items():\n",
    "            name = name.lower()\n",
    "            templatesTarget[template]['Params'][name] =templatesTarget[template]['Params'].get(name,0)\n",
    "            templatesTarget[template]['Params'][name] +=1\n",
    "            paramsTarget[name] = paramsTarget.get(name,0)\n",
    "            paramsTarget[name] += 1"
   ]
  },
  {
   "cell_type": "markdown",
   "metadata": {},
   "source": [
    "## Getting most frequent templates and parameters"
   ]
  },
  {
   "cell_type": "code",
   "execution_count": 12,
   "metadata": {},
   "outputs": [],
   "source": [
    "templateFreq = [(a[0],a[1]['Tcount'],len(a[1]['Params'])) for a in sorted(templates.items(), key =  lambda x:x[1]['Tcount'],reverse=True)]\n",
    "templateFreq = [(a[0],a[1]['Tcount'],len(a[1]['Params'])) for a in sorted(templates.items(), key =  lambda x:x[1]['Tcount'],reverse=True)]"
   ]
  },
  {
   "cell_type": "code",
   "execution_count": 34,
   "metadata": {},
   "outputs": [
    {
     "data": {
      "text/plain": [
       "[('Listaref', 618206, 17467),\n",
       " ('Cita web', 474422, 770),\n",
       " ('Ficha de entidad subnacional', 256644, 2003),\n",
       " ('Ficha de taxón', 166540, 464),\n",
       " ('Cita libro', 159579, 687),\n",
       " ('Ficha de deportista', 120360, 1181),\n",
       " ('Cita publicación', 89720, 925),\n",
       " ('Cita noticia', 81953, 260),\n",
       " ('Ficha de persona', 68685, 2285),\n",
       " ('Coord', 67812, 81),\n",
       " ('Referencias', 66815, 484),\n",
       " ('Commonscat', 66446, 4925),\n",
       " ('Enlace roto', 64063, 212),\n",
       " ('Sucesión', 47983, 144),\n",
       " ('Altura', 46017, 14),\n",
       " ('Wayback', 38548, 15),\n",
       " ('Cite web', 36285, 255),\n",
       " ('Evolución demográfica', 36199, 214),\n",
       " ('Peso', 33365, 16),\n",
       " ('Ficha de artista musical', 28863, 1256),\n",
       " ('Control de autoridades', 27633, 3083),\n",
       " ('Ficha de álbum', 26938, 495),\n",
       " ('Wikispecies', 26675, 678),\n",
       " ('Gráfica de evolución', 25393, 141),\n",
       " ('Ficha de película', 25351, 1334),\n",
       " ('Ficha de actor', 23706, 1134),\n",
       " ('Ficha de autoridad', 22795, 1458),\n",
       " ('Esp', 22403, 5693),\n",
       " ('!', 21445, 1614),\n",
       " ('Traducido ref', 20612, 34),\n",
       " ('Iucn', 19424, 137),\n",
       " ('Biology catalog', 17671, 3),\n",
       " ('Usa', 17412, 5967),\n",
       " ('Ficha de localidad de españa', 17070, 652),\n",
       " ('En', 14898, 3645),\n",
       " ('Ficha de cuerpo celeste\\n<!-- encabezado -->', 13853, 133),\n",
       " ('Cite news', 13230, 157),\n",
       " ('Bandera', 13164, 125),\n",
       " ('Ficha de sencillo', 13107, 357),\n",
       " ('Lista de canciones', 13085, 1399),\n",
       " ('Sfn', 12901, 53),\n",
       " ('Arg', 12232, 4482),\n",
       " ('Ficha de organización', 12132, 1512),\n",
       " ('Harvnp', 11939, 23),\n",
       " ('Cite book', 11718, 315),\n",
       " ('Cita requerida', 10659, 4607),\n",
       " ('Ficha de serie de televisión', 10595, 783),\n",
       " ('Ficha de estación', 10385, 293),\n",
       " ('Mex', 9583, 4126),\n",
       " ('Ficha de cuerpo de agua', 9545, 431)]"
      ]
     },
     "execution_count": 34,
     "metadata": {},
     "output_type": "execute_result"
    }
   ],
   "source": [
    "templateFreq[0:50]"
   ]
  },
  {
   "cell_type": "code",
   "execution_count": 121,
   "metadata": {
    "scrolled": false
   },
   "outputs": [
    {
     "name": "stdout",
     "output_type": "stream",
     "text": [
      "[7028454, \"Oswaldo de Oliveira\", {\"JPN\": {\"\u001b[01;31m\u001b[K05.22.2012 acessodata\u001b[m\u001b[K\": \"\", \"url\": \"http://esporte.uol.com.br/futebol/ultimas-noticias/2012/05/22/campeao-mundial-em-2000-oswaldo-de-oliveira-revela-torcida-pelo-corinthians-na-libertadores.htm\", \"t\\u00edtulo\": \"Campe\\u00e3o mundo en 2000, Oswaldo de Oliveira revela animando para el Corinthians en la Libertadores\", \"fecha\": \"22 de mayo de 2012\", \"UOL autor\": \"\"}, \"cita web\": {\"\u001b[01;31m\u001b[K05.22.2012 acessodata\u001b[m\u001b[K\": \"\", \"url\": \"http://esporte.uol.com.br/futebol/ultimas-noticias/2012/05/22/campeao-mundial-em-2000-oswaldo-de-oliveira-revela-torcida-pelo-corinthians-na-libertadores.htm\", \"t\\u00edtulo\": \"Campe\\u00e3o mundo en 2000, Oswaldo de Oliveira revela animando para el Corinthians en la Libertadores\", \"fecha\": \"22 de mayo de 2012\", \"UOL autor\": \"\"}, \"BRA\": {\"\u001b[01;31m\u001b[K05.22.2012 acessodata\u001b[m\u001b[K\": \"\", \"url\": \"http://esporte.uol.com.br/futebol/ultimas-noticias/2012/05/22/campeao-mundial-em-2000-oswaldo-de-oliveira-revela-torcida-pelo-corinthians-na-libertadores.htm\", \"t\\u00edtulo\": \"Campe\\u00e3o mundo en 2000, Oswaldo de Oliveira revela animando para el Corinthians en la Libertadores\", \"fecha\": \"22 de mayo de 2012\", \"UOL autor\": \"\"}, \"Ficha de deportista\": {\"fecha nacimiento\": \"{{fecha|5|12|1950|edad}}\", \"debut internacional\": \"\", \"selecci\\u00f3n\": \"\", \"posici\\u00f3n\": \"[[Entrenador]]\", \"veces internacional\": \"\", \"imagen\": \"\", \"equipos\": \"\", \"lugar nacimiento\": \"[[R\\u00edo de Janeiro]], [[Brasil]]\", \"equipo_retiro\": \"\", \"tama\\u00f1o de imagen\": \"\", \"pie de imagen\": \"<!-- Secci\\u00f3n de datos personales -->\", \"retiro\": \"\", \"nac_deportiva\": \"\", \"altura\": \"1,85 [[metro]]s\\n<!-- Secci\\u00f3n de carrera -->\", \"n\\u00famero_selecci\\u00f3n\": \"\", \"nacionalidad\": \"[[Archivo:Flag of Brazil.svg|20px|brasile\\u00f1o]]\", \"nombrecompleto\": \"Oswaldo de Oliveira Filho\", \"liga\": \"[[J1 League]]\\n<!-- Secci\\u00f3n de trayectoria -->\", \"goles_clubes\": \"\", \"nombre\": \"Oswaldo de Oliveira\", \"deporte\": \"F\\u00fatbol\", \"inicio\": \"[[1999]]\", \"equipo_debut\": \"[[Sport Club Corinthians Paulista|Corinthians]]\", \"goles internacional\": \"\", \"torneos\": \"\", \"t\\u00edtulos\": \"\", \"club\": \"{{bandera|JPN}} [[Urawa Red Diamonds]]\"}, \"JAP\": {\"\u001b[01;31m\u001b[K05.22.2012 acessodata\u001b[m\u001b[K\": \"\", \"url\": \"http://esporte.uol.com.br/futebol/ultimas-noticias/2012/05/22/campeao-mundial-em-2000-oswaldo-de-oliveira-revela-torcida-pelo-corinthians-na-libertadores.htm\", \"t\\u00edtulo\": \"Campe\\u00e3o mundo en 2000, Oswaldo de Oliveira revela animando para el Corinthians en la Libertadores\", \"fecha\": \"22 de mayo de 2012\", \"UOL autor\": \"\"}, \"QAT\": {\"\u001b[01;31m\u001b[K05.22.2012 acessodata\u001b[m\u001b[K\": \"\", \"url\": \"http://esporte.uol.com.br/futebol/ultimas-noticias/2012/05/22/campeao-mundial-em-2000-oswaldo-de-oliveira-revela-torcida-pelo-corinthians-na-libertadores.htm\", \"t\\u00edtulo\": \"Campe\\u00e3o mundo en 2000, Oswaldo de Oliveira revela animando para el Corinthians en la Libertadores\", \"fecha\": \"22 de mayo de 2012\", \"UOL autor\": \"\"}, \"listaref\": {\"\u001b[01;31m\u001b[K05.22.2012 acessodata\u001b[m\u001b[K\": \"\", \"url\": \"http://esporte.uol.com.br/futebol/ultimas-noticias/2012/05/22/campeao-mundial-em-2000-oswaldo-de-oliveira-revela-torcida-pelo-corinthians-na-libertadores.htm\", \"t\\u00edtulo\": \"Campe\\u00e3o mundo en 2000, Oswaldo de Oliveira revela animando para el Corinthians en la Libertadores\", \"fecha\": \"22 de mayo de 2012\", \"UOL autor\": \"\"}}]\r\n"
     ]
    }
   ],
   "source": [
    "### looking for errors or unsual parameters\n",
    "!grep --color=always \"05.22.2012 acessodata\" templates-articles_es.json"
   ]
  },
  {
   "cell_type": "code",
   "execution_count": 22,
   "metadata": {},
   "outputs": [
    {
     "data": {
      "text/plain": [
       "6"
      ]
     },
     "execution_count": 22,
     "metadata": {},
     "output_type": "execute_result"
    }
   ],
   "source": [
    "params['05.22.2012 acessodata']"
   ]
  },
  {
   "cell_type": "code",
   "execution_count": 35,
   "metadata": {},
   "outputs": [
    {
     "data": {
      "text/plain": [
       "[('título', 1564249),\n",
       " ('url', 1380220),\n",
       " ('nombre', 1259267),\n",
       " ('fechaacceso', 989166),\n",
       " ('imagen', 800260),\n",
       " ('fecha', 562732),\n",
       " ('idioma', 559555),\n",
       " ('editorial', 525474),\n",
       " ('año', 338468),\n",
       " ('país', 328587),\n",
       " ('tipo', 301166),\n",
       " ('mapa_loc', 297770),\n",
       " ('autor', 287528),\n",
       " ('obra', 275163),\n",
       " ('tipo_superior_1', 274437),\n",
       " ('superior_1', 274310),\n",
       " ('familia', 250417),\n",
       " ('ubicación', 249046),\n",
       " ('tipo_superior_2', 244119),\n",
       " ('superior_2', 244032)]"
      ]
     },
     "execution_count": 35,
     "metadata": {},
     "output_type": "execute_result"
    }
   ],
   "source": [
    "sorted(params.items(), key =  lambda x:x[1],reverse=True)[0:20]"
   ]
  },
  {
   "cell_type": "code",
   "execution_count": 24,
   "metadata": {},
   "outputs": [
    {
     "data": {
      "text/plain": [
       "[('title', 12129321),\n",
       " ('date', 10136985),\n",
       " ('url', 9735142),\n",
       " ('accessdate', 6061055),\n",
       " ('publisher', 5732969),\n",
       " ('name', 3450763),\n",
       " ('website', 2726258),\n",
       " ('image', 2659807),\n",
       " ('last', 2644079),\n",
       " ('first', 2563686),\n",
       " ('year', 2097265),\n",
       " ('work', 1952569),\n",
       " ('caption', 1818576),\n",
       " ('display', 1703860),\n",
       " ('df', 1637443),\n",
       " ('language', 1625473),\n",
       " ('location', 1563582),\n",
       " ('isbn', 1290803),\n",
       " ('access-date', 1187202),\n",
       " ('pages', 1169205)]"
      ]
     },
     "execution_count": 24,
     "metadata": {},
     "output_type": "execute_result"
    }
   ],
   "source": [
    "sorted(paramsTarget.items(), key =  lambda x:x[1],reverse=True)[0:20]\n"
   ]
  },
  {
   "cell_type": "markdown",
   "metadata": {},
   "source": [
    "## Experiments with some (arbitrary) selected templates"
   ]
  },
  {
   "cell_type": "code",
   "execution_count": 36,
   "metadata": {},
   "outputs": [],
   "source": [
    "exampleTemplate = 'Ficha de persona'\n",
    "sourceLang ='es'\n",
    "targetLang = 'en'\n",
    "templatesTwoLang = getWikidataPair(['Plantilla:'+exampleTemplate],sourceLang,targetLang)[0]"
   ]
  },
  {
   "cell_type": "code",
   "execution_count": 37,
   "metadata": {},
   "outputs": [],
   "source": [
    "import random\n",
    "random.seed(1)\n",
    "pagesSource = random.sample(templates[exampleTemplate][\"Tpages\"],50)\n",
    "pagesPairs = getWikidataPair(pagesSource,sourceLang,targetLang)\n",
    "templatesPairsPerPage = {}\n",
    "for pages in pagesPairs:\n",
    "    templateSource = [(name,data) for name,data in  extract_templates(getContent(pages[0],sourceLang)).items() if name.lower() in templatesTwoLang[0].lower()] \n",
    "    templateTarget = [(name,data) for name,data in  extract_templates(getContent(pages[1],targetLang)).items() if name.lower() in templatesTwoLang[1].lower()] \n",
    "    if templateSource:\n",
    "        if templateTarget:\n",
    "            templatesPairsPerPage[pages[0]] = templatesPairsPerPage.get(pages[0],[])\n",
    "\n",
    "            templatesPairsPerPage[pages[0]].append((templateSource,templateTarget))\n",
    "    \n",
    "    "
   ]
  },
  {
   "cell_type": "markdown",
   "metadata": {},
   "source": [
    "## TemplateData (metadata) based aligments\n"
   ]
  },
  {
   "cell_type": "markdown",
   "metadata": {},
   "source": [
    "### Using Josifoski et al alignments [https://arxiv.org/abs/1904.03922]"
   ]
  },
  {
   "cell_type": "code",
   "execution_count": 192,
   "metadata": {},
   "outputs": [],
   "source": [
    "import numpy as np\n",
    "from cr5 import Cr5_Model\n",
    "from scipy.spatial import distance\n",
    "from collections import Counter\n",
    "\n",
    "model = Cr5_Model('./','joint_28') # path_to_pretrained_model, model_prefix\n",
    "model.load_langs(['en', 'ca','es']) # list_of_languages\n"
   ]
  },
  {
   "cell_type": "code",
   "execution_count": 57,
   "metadata": {},
   "outputs": [
    {
     "data": {
      "text/plain": [
       "['Plantilla:Ficha de persona', 'Template:Infobox person']"
      ]
     },
     "execution_count": 57,
     "metadata": {},
     "output_type": "execute_result"
    }
   ],
   "source": [
    "templatesTwoLang"
   ]
  },
  {
   "cell_type": "code",
   "execution_count": 58,
   "metadata": {},
   "outputs": [],
   "source": [
    "\n",
    "templateDataLang1 = getTemplateData(templatesTwoLang[0],sourceLang)\n",
    "templateDataLang2 = getTemplateData(templatesTwoLang[1],targetLang)"
   ]
  },
  {
   "cell_type": "code",
   "execution_count": 59,
   "metadata": {},
   "outputs": [],
   "source": [
    "distances = {}\n",
    "for param1,data1 in templateDataLang1['params'].items():\n",
    "    try:\n",
    "        vec1 = model.get_document_embedding(param1.split(),sourceLang)\n",
    "        distances[param1] = []\n",
    "        for param2,data2 in templateDataLang2['params'].items():\n",
    "            if data1['type'] == data2['type']:\n",
    "\n",
    "                try:\n",
    "                    vec2 = model.get_document_embedding(param2.split(),targetLang)\n",
    "                    dist = distance.cosine(vec1,vec2)\n",
    "                    distances[param1].append([dist,param2])\n",
    "                except:\n",
    "                    pass\n",
    "    except:\n",
    "        pass\n",
    "for param,words in distances.items():\n",
    "    try:\n",
    "        print(param,sorted(words)[0:3])\n",
    "    except:\n",
    "        pass"
   ]
  },
  {
   "cell_type": "code",
   "execution_count": 60,
   "metadata": {},
   "outputs": [],
   "source": [
    "distances2= {}\n",
    "for param1,data1 in templateDataLang1['params'].items():\n",
    "    try:\n",
    "        try:\n",
    "            vec1 = model.get_document_embedding(data1['label'][sourceLang].split(),sourceLang)\n",
    "        except:\n",
    "            vec1 = model.get_document_embedding(param1.split(),sourceLang)\n",
    "\n",
    "        distances2[param1] = []\n",
    "        for param2,data2 in templateDataLang2['params'].items():\n",
    "            if data1['type'] == data2['type']:\n",
    "                try:\n",
    "                    vec2 = model.get_document_embedding(data2['label'][targetLang].split(),targetLang)\n",
    "                except:\n",
    "                    vec2 = model.get_document_embedding(param2.split(),targetLang)\n",
    "                try:\n",
    "                    dist = distance.cosine(vec1,vec2)\n",
    "                    distances2[param1].append([dist,param2])\n",
    "                except:\n",
    "                    pass\n",
    "    except:\n",
    "        pass\n",
    "for param,words in distances2.items():\n",
    "    try:\n",
    "        print(param,sorted(words)[0:2])\n",
    "    except:\n",
    "        pass"
   ]
  },
  {
   "cell_type": "markdown",
   "metadata": {},
   "source": [
    "### Using Wikidata based alignemnts https://github.com/digitalTranshumant/wmf-interlanguage"
   ]
  },
  {
   "cell_type": "code",
   "execution_count": 27,
   "metadata": {},
   "outputs": [],
   "source": [
    "## Trying my alignments\n",
    "\n",
    "import fastText\n",
    "myModel = fastText.load_model('fastText/wiki.es.bin')\n",
    "myModel2 = fastText.load_model('fastText/wiki.en.bin')\n"
   ]
  },
  {
   "cell_type": "code",
   "execution_count": 61,
   "metadata": {},
   "outputs": [
    {
     "name": "stdout",
     "output_type": "stream",
     "text": [
      "educación [[0.21443717063835965, 'education'], [0.6178690504391597, 'citizenship'], [0.6280876465303372, 'children']]\n",
      "ocupación [[0.2631526201422385, 'occupation'], [0.6787827437526144, 'nationality'], [0.67897376154512, 'years_active']]\n",
      "cónyuge [[0.24983593109192836, 'spouse'], [0.40392868186760367, 'birth_name'], [0.5124027167893581, 'other_names']]\n",
      "influenciado por [[0.33104337127144423, 'influenced'], [0.4706785758481643, 'influences'], [0.6523160108643545, 'landscape']]\n",
      "movimiento [[0.250243910083511, 'movement'], [0.5778743841110583, 'party'], [0.6147539468328521, 'organization']]\n",
      "nombre [[0.26619029141547823, 'name'], [0.6145292268664284, 'native_name'], [0.6246814849355296, 'callsign']]\n",
      "influyó [[0.36215121638317693, 'influenced'], [0.45778910238385484, 'influences'], [0.6678311460816266, 'landscape']]\n",
      "imagen [[0.35426880401306926, 'image'], [0.4961995987604414, 'caption'], [0.5666827976810916, 'image_upright']]\n",
      "ciudadanía [[0.3015432342644394, 'citizenship'], [0.653580951322187, 'nationality'], [0.6600960568858325, 'education']]\n",
      "premios [[0.1996928100588924, 'awards'], [0.6319804378746378, 'honours'], [0.746109625629121, 'honorific_prefix']]\n",
      "peso [[0.36017355935521966, 'weight'], [0.49174267895300294, 'weight_kg'], [0.549960720560015, 'weight_lb']]\n",
      "residencia [[0.22379335319260452, 'residence'], [0.5994219355354917, 'resting_place_coordinates'], [0.6178789690657341, 'resting_place']]\n",
      "sitio web [[0.3162818377780624, 'website'], [0.7412872971725771, 'organization'], [0.7445792200812413, 'residence']]\n",
      "nombre completo [[0.3834951969338314, 'name'], [0.6662905921800288, 'native_name'], [0.6776359587662848, 'pronunciation']]\n",
      "partido político [[0.2710686742438828, 'party'], [0.6210887194532322, 'movement'], [0.628641284713549, 'native_name']]\n",
      "salario [[0.34686267984318064, 'salary'], [0.5329042061310687, 'employer'], [0.5965979002841617, 'net_worth']]\n",
      "altura [[0.38311822276064533, 'height'], [0.5832588073048197, 'height_m'], [0.6220852773203933, 'height_ft']]\n",
      "empleador [[0.3348148659869248, 'employer'], [0.5446088862241445, 'partner'], [0.5862241792475072, 'salary']]\n",
      "padres [[0.2876338169892533, 'parents'], [0.4058660453093854, 'mother'], [0.4181208590909826, 'father']]\n",
      "sucesor [[0.3365330269688752, 'successor'], [0.456283892848407, 'predecessor'], [0.618620802171814, 'father']]\n"
     ]
    }
   ],
   "source": [
    "distances3 = {}\n",
    "transmat = np.loadtxt('fastText_multilingual/my_alingments/apply_in_en_to_es.txt')\n",
    "for param1,data1 in templateDataLang1['params'].items():\n",
    "        vec1 = myModel.get_sentence_vector(param1)\n",
    "        distances3[param1] = []\n",
    "        for param2,data2 in templateDataLang2['params'].items():\n",
    "          #  if data1['type'] == data2['type']:\n",
    "                vec2= myModel2.get_sentence_vector(param2)\n",
    "                vec2T = apply_transform(vec2,transmat)\n",
    "                dist = distance.cosine(vec1,vec2T)\n",
    "                distances3[param1].append([dist,param2])\n",
    "\n",
    "for param,words in distances3.items():\n",
    "    try:\n",
    "        if sorted(words)[0][0] < .4:\n",
    "            print(param,sorted(words)[0:3])\n",
    "    except:\n",
    "        pass"
   ]
  },
  {
   "cell_type": "markdown",
   "metadata": {},
   "source": [
    "### Template data limitations\n",
    "* Big amount of 'es' templates, have no templatedata info"
   ]
  },
  {
   "cell_type": "code",
   "execution_count": 39,
   "metadata": {},
   "outputs": [
    {
     "name": "stdout",
     "output_type": "stream",
     "text": [
      "Listaref ok\n",
      "Cita web ok\n",
      "Ficha de entidad subnacional ok\n",
      "Ficha de taxón no\n",
      "Cita libro ok\n",
      "Ficha de deportista no\n",
      "Cita publicación ok\n",
      "Cita noticia ok\n",
      "Ficha de persona ok\n",
      "Coord no\n",
      "Referencias ok\n",
      "Commonscat ok\n",
      "Enlace roto ok\n",
      "Sucesión ok\n",
      "Altura no\n",
      "Wayback no\n",
      "Cite web ok\n",
      "Evolución demográfica no\n",
      "Peso no\n",
      "Ficha de artista musical ok\n",
      "Control de autoridades no\n",
      "Ficha de álbum ok\n",
      "Wikispecies ok\n",
      "Gráfica de evolución no\n",
      "Ficha de película ok\n",
      "Ficha de actor ok\n",
      "Ficha de autoridad ok\n",
      "Esp no\n",
      "! no\n",
      "Traducido ref no\n",
      "Iucn no\n",
      "Biology catalog no\n",
      "Usa no\n",
      "Ficha de localidad de españa no\n",
      "En no\n",
      "Ficha de cuerpo celeste\n",
      "<!-- encabezado --> no\n",
      "Cite news ok\n",
      "Bandera ok\n",
      "Ficha de sencillo ok\n",
      "Lista de canciones no\n",
      "Sfn ok\n",
      "Arg no\n",
      "Ficha de organización no\n",
      "Harvnp ok\n",
      "Cite book ok\n",
      "Cita requerida ok\n",
      "Ficha de serie de televisión ok\n",
      "Ficha de estación no\n",
      "Mex no\n",
      "Ficha de cuerpo de agua ok\n",
      "27 ok 23 No\n"
     ]
    }
   ],
   "source": [
    "withTemplateData = 0\n",
    "withoutTemplateData = 0\n",
    "for t in templateFreq[0:50]:\n",
    "    try:\n",
    "        tmp = getTemplateData('Plantilla:'+t[0],lang='es')\n",
    "        print(t[0],'ok')\n",
    "        withTemplateData +=1\n",
    "    except:\n",
    "        print(t[0],'no')\n",
    "        withoutTemplateData +=1\n",
    "print(withTemplateData,'ok',withoutTemplateData,'No')"
   ]
  },
  {
   "cell_type": "markdown",
   "metadata": {},
   "source": [
    "### Without Template Data\n",
    "This is working pretty good. \n",
    "We need to:\n",
    "* Play with the similiarty threshold\n",
    "* Map 1 to 1 (keep just the most similar)"
   ]
  },
  {
   "cell_type": "code",
   "execution_count": 62,
   "metadata": {},
   "outputs": [
    {
     "name": "stdout",
     "output_type": "stream",
     "text": [
      "['Plantilla:Ficha de persona', 'Template:Infobox person']\n",
      "almamáter [[0.20313075649282697, 'alma_mater'], [0.40838973184531924, 'university'], [0.4787241033567037, 'image_name']]\n",
      "ocupación [[0.2631526201422385, 'occupation'], [0.6600671853620486, 'period'], [0.6787827437526144, 'nationality']]\n",
      "hijos [[0.32078906070348034, 'siblings'], [0.4237291785050009, 'parents'], [0.44422598496494703, 'mother']]\n",
      "salario [[0.34686267984318064, 'salary'], [0.5329042061310687, 'employer'], [0.5914404969325433, 'networth']]\n",
      "religión [[0.1918389519777819, 'religion'], [0.5063039178227149, 'ethnicity'], [0.5418350265150662, 'ethnic']]\n",
      "página web [[0.28040716269534793, 'website'], [0.39915367366575616, 'homepage'], [0.5409951249382179, 'url']]\n",
      "ciudadanía [[0.3015432342644394, 'citizenship'], [0.5893396413425851, 'ethnicity'], [0.6132553383436963, 'ethnic']]\n",
      "obras [[0.3723628392673217, 'works'], [0.5072776723566816, 'notable works'], [0.6917973714188009, 'influences']]\n",
      "partido político [[0.2710686742438828, 'party'], [0.5555918771322552, 'elected'], [0.6210887194532322, 'movement']]\n",
      "altura [[0.38311822276064533, 'height'], [0.6268790213404272, 'size'], [0.6356246068183318, 'height_cm']]\n",
      "profesión [[0.2907516493035255, 'profession'], [0.6062218171219675, 'occupation'], [0.6481471582822792, 'father']]\n",
      "tamaño [[0.37431834555687193, 'size'], [0.41338675119865964, 'image size'], [0.6053846158681382, 'height']]\n",
      "movimiento [[0.250243910083511, 'movement'], [0.5778743841110583, 'party'], [0.6147539468328521, 'organization']]\n",
      "empleador [[0.3348148659869248, 'employer'], [0.5446088862241445, 'partner'], [0.5862241792475072, 'salary']]\n",
      "padres [[0.2876338169892533, 'parents'], [0.3318735405300991, 'siblings'], [0.4058660453093854, 'mother']]\n",
      "web [[0.28798770556143627, 'website'], [0.4095679844204547, 'homepage'], [0.5692907818495073, 'url']]\n",
      "partido [[0.2765007207344614, 'party'], [0.6017298525914572, 'elected'], [0.6286008653139599, 'opponents']]\n",
      "sucesor [[0.3365330269688752, 'successor'], [0.456283892848407, 'predecessor'], [0.596444413828311, 'birthname']]\n",
      "educación [[0.21443717063835965, 'education'], [0.5491864642800925, 'university'], [0.5631942038119764, 'training']]\n",
      "sucesor2 [[0.38024225945413925, 'successor'], [0.5209480783535644, 'predecessor'], [0.6205342973430593, 'spouse']]\n",
      "cónyuge [[0.24983593109192836, 'spouse'], [0.40392868186760367, 'birth_name'], [0.4092985624124069, 'domesticpartner']]\n",
      "conocido [[0.3359444275967298, 'known'], [0.4397517801871975, 'known for'], [0.5681550678209043, 'nickname']]\n",
      "tamaño de imagen [[0.3487460935340897, 'image size'], [0.44899283918994626, 'image caption'], [0.46018400256375347, 'image']]\n",
      "alma máter [[0.3910620676540274, 'alma mater'], [0.47251254267794773, 'university'], [0.4729891746963797, 'alma_mater']]\n",
      "sucesor3 [[0.3923570462103766, 'successor'], [0.5411234273905198, 'predecessor'], [0.6156393623717037, 'spouse']]\n",
      "nombre de nacimiento [[0.36015477905009385, 'birth name'], [0.428332985713629, 'other name'], [0.44078376047482226, 'name']]\n",
      "otros premios [[0.3566963188347183, 'awards'], [0.4269460563112747, 'prizes'], [0.49343071972289976, 'baftaawards']]\n",
      "nombre [[0.26619029141547823, 'name'], [0.38294882716225065, 'birth name'], [0.3887340448708989, 'other name']]\n",
      "imagen [[0.35426880401306926, 'image'], [0.3695230158584034, 'image caption'], [0.44648244574729823, 'image size']]\n",
      "premios [[0.1996928100588924, 'awards'], [0.36031485835432775, 'prizes'], [0.36977659925063355, 'baftaawards']]\n",
      "etnia [[0.34014606600360775, 'ethnicity'], [0.34867307048601637, 'ethnic'], [0.5098585953152114, 'language']]\n",
      "peso [[0.36017355935521966, 'weight'], [0.6609215027394688, 'height_cm'], [0.6805149870931443, 'size']]\n",
      "sitio web [[0.3162818377780624, 'website'], [0.4391092135402731, 'homepage'], [0.6131980278300186, 'url']]\n",
      "nombre completo [[0.3834951969338314, 'name'], [0.4488191480151389, 'birth name'], [0.4540852631947522, 'other name']]\n",
      "causa muerte [[0.3906710959670078, 'death'], [0.5230927214892079, 'death_cause'], [0.5804853362146993, 'criminal_penalty']]\n",
      "apodo [[0.2508204685816622, 'nickname'], [0.5267847117341005, 'name'], [0.573542126756905, 'birth name']]\n",
      "años activo [[0.2560523897523098, 'years active'], [0.5423190894009016, 'period'], [0.5719775227860848, 'age']]\n",
      "posgrado [[0.3396015193960188, 'university'], [0.4851736171837069, 'education'], [0.5389821894688279, 'alma_mater']]\n",
      "residencia [[0.22379335319260452, 'residence'], [0.5764792058191653, 'deathplace'], [0.5838530613268462, 'home town']]\n",
      "otros nombres [[0.32951607687855056, 'other names'], [0.3858069244413459, 'other name'], [0.581711504984381, 'name']]\n",
      "60 Without Mapping\n"
     ]
    }
   ],
   "source": [
    "distancesNoTemplateData = {}\n",
    "print(templatesTwoLang)\n",
    "template1 = templates[templatesTwoLang[0].split(':')[1]]\n",
    "template1['params'] = sorted(template1['Params'].items(), key= lambda x: x[1],reverse=True)[:100]\n",
    "template2 = templatesTarget[templatesTwoLang[1].split(':')[1]]\n",
    "template2['params'] = sorted(template2['Params'].items(), key= lambda x: x[1],reverse=True)[:200]\n",
    "\n",
    "\n",
    "transmat = np.loadtxt('fastText_multilingual/my_alingments/apply_in_en_to_es.txt')\n",
    "for param1,data1 in template1['params']:\n",
    "    try:\n",
    "        vec1 = myModel.get_sentence_vector(param1.strip())\n",
    "        distancesNoTemplateData[param1] = []\n",
    "    except: pass\n",
    "    for param2,data2 in template2['params']:\n",
    "            try:\n",
    "                vec2= myModel2.get_sentence_vector(param2.strip())\n",
    "                vec2T = apply_transform(vec2,transmat)\n",
    "                dist = distance.cosine(vec1,vec2T)\n",
    "                distancesNoTemplateData[param1].append([dist,param2])\n",
    "            except:\n",
    "                pass\n",
    "\n",
    "cNotFound = 0\n",
    "for param,words in distancesNoTemplateData.items():\n",
    "    try:\n",
    "        if sorted(words)[0][0] < .4:\n",
    "            print(param,sorted(words)[0:3])\n",
    "        else:\n",
    "            cNotFound +=1\n",
    "    except:\n",
    "        pass\n",
    "print(cNotFound,'Without Mapping')"
   ]
  },
  {
   "cell_type": "code",
   "execution_count": 41,
   "metadata": {},
   "outputs": [
    {
     "data": {
      "text/plain": [
       "[('fecha de nacimiento', 48008),\n",
       " ('lugar de nacimiento', 46031),\n",
       " ('nombre', 42222),\n",
       " ('imagen', 39398),\n",
       " ('nacionalidad', 38977),\n",
       " ('fecha de fallecimiento', 36024),\n",
       " ('lugar de fallecimiento', 33473),\n",
       " ('ocupación', 33152),\n",
       " ('nombre de nacimiento', 23697),\n",
       " ('cónyuge', 21299),\n",
       " ('hijos', 17867),\n",
       " ('pie de imagen', 15154),\n",
       " ('padres', 15017),\n",
       " ('tamaño', 14278),\n",
       " ('alma máter', 14107),\n",
       " ('firma', 13678),\n",
       " ('descripción', 13666),\n",
       " ('residencia', 13649),\n",
       " ('área', 12665),\n",
       " ('premios', 12549),\n",
       " ('tamaño de imagen', 11100),\n",
       " ('años activo', 9415),\n",
       " ('otros nombres', 9261),\n",
       " ('educación', 9154),\n",
       " ('predecesor', 9151),\n",
       " ('empleador', 9050),\n",
       " ('sucesor', 8669),\n",
       " ('religión', 7618),\n",
       " ('causa muerte', 7280),\n",
       " ('abreviatura en botánica', 6965),\n",
       " ('familiares', 6751),\n",
       " ('partido político', 6671),\n",
       " ('conocido por', 6604),\n",
       " ('cargo', 6534),\n",
       " ('inicio', 6454),\n",
       " ('twitter', 6400),\n",
       " ('notas', 6377),\n",
       " ('conocido', 5981),\n",
       " ('pareja', 5938),\n",
       " ('patrimonio', 5718),\n",
       " ('final', 5656),\n",
       " ('posgrado', 5649),\n",
       " ('facebook', 5539),\n",
       " ('nombre nativo', 5367),\n",
       " ('etnia', 5345),\n",
       " ('escudo', 5184),\n",
       " ('altura', 5168),\n",
       " ('apodo', 4864),\n",
       " ('web', 4856),\n",
       " ('peso', 4721),\n",
       " ('obras', 4670),\n",
       " ('nombre completo', 4550),\n",
       " ('salario', 4239),\n",
       " ('título', 4095),\n",
       " ('página web', 3982),\n",
       " ('obras destacadas', 3939),\n",
       " ('ciudadanía', 3809),\n",
       " ('id', 3506),\n",
       " ('inicio2', 3488),\n",
       " ('término', 3448),\n",
       " ('final2', 3315),\n",
       " ('empresa', 3228),\n",
       " ('t', 3225),\n",
       " ('cargo2', 3208),\n",
       " ('programas', 3053),\n",
       " ('medio de comunicación', 3036),\n",
       " ('wikidata', 3033),\n",
       " ('escudo2', 2416),\n",
       " ('sitio web', 2396),\n",
       " ('cabecera', 2335),\n",
       " ('partido', 2239),\n",
       " ('predecesor2', 2130),\n",
       " ('movimiento', 2123),\n",
       " ('sucesor2', 2097),\n",
       " ('fuentebiográfica', 2018),\n",
       " ('tiempo', 2016),\n",
       " ('inicio3', 1859),\n",
       " ('final3', 1818),\n",
       " ('cargo3', 1691),\n",
       " ('ciudadania', 1606),\n",
       " ('presidente', 1605),\n",
       " ('imdb', 1553),\n",
       " ('profesión', 1515),\n",
       " ('año debut', 1458),\n",
       " ('estatura', 1453),\n",
       " ('titulo', 1433),\n",
       " ('pieimagen', 1365),\n",
       " ('género', 1360),\n",
       " ('termino', 1358),\n",
       " ('distrito', 1350),\n",
       " ('almamáter', 1273),\n",
       " ('escudo3', 1262),\n",
       " ('año retiro', 1217),\n",
       " ('sucesor3', 1111),\n",
       " ('predecesor3', 1100),\n",
       " ('otros premios', 1083),\n",
       " ('inicio4', 1007),\n",
       " ('final4', 971),\n",
       " ('pie de foto', 951),\n",
       " ('cargo4', 910)]"
      ]
     },
     "execution_count": 41,
     "metadata": {},
     "output_type": "execute_result"
    }
   ],
   "source": [
    "template1['params']"
   ]
  },
  {
   "cell_type": "code",
   "execution_count": 43,
   "metadata": {},
   "outputs": [
    {
     "name": "stderr",
     "output_type": "stream",
     "text": [
      "IOPub data rate exceeded.\n",
      "The notebook server will temporarily stop sending output\n",
      "to the client in order to avoid crashing it.\n",
      "To change this limit, set the config variable\n",
      "`--NotebookApp.iopub_data_rate_limit`.\n",
      "\n",
      "Current values:\n",
      "NotebookApp.iopub_data_rate_limit=1000000.0 (bytes/sec)\n",
      "NotebookApp.rate_limit_window=3.0 (secs)\n",
      "\n"
     ]
    },
    {
     "name": "stdout",
     "output_type": "stream",
     "text": [
      "0 Without Mapping\n"
     ]
    }
   ],
   "source": [
    "#Same before, just trying with other Template\n",
    "exampleTemplate2 = 'Ficha de deportista'\n",
    "sourceLang2 ='es'\n",
    "targetLang2 = 'en'\n",
    "templatesTwoLang2 = getWikidataPair(['Plantilla:'+exampleTemplate2],sourceLang2,targetLang2)[0]\n",
    "\n",
    "\n",
    "distancesNoTemplateData = {}\n",
    "print(templatesTwoLang2)\n",
    "template1 = templates[templatesTwoLang2[0].split(':')[1]]\n",
    "template1['params'] = sorted(template1['Params'].items(), key= lambda x: x[1],reverse=True)[:100]\n",
    "template2 = templatesTarget[templatesTwoLang2[1].split(':')[1]]\n",
    "template2['params'] = sorted(template2['Params'].items(), key= lambda x: x[1],reverse=True)[:200]\n",
    "\n",
    "transmat = np.loadtxt('fastText_multilingual/my_alingments/apply_in_en_to_es.txt')\n",
    "for param1,data1 in template1['params']:\n",
    "    try:\n",
    "        vec1 = myModel.get_sentence_vector(param1.strip())\n",
    "        distancesNoTemplateData[param1] = []\n",
    "    except: pass\n",
    "    for param2,data2 in template2['params']:\n",
    "            try:\n",
    "                vec2= myModel2.get_sentence_vector(param2.strip())\n",
    "                vec2T = apply_transform(vec2,transmat)\n",
    "                dist = distance.cosine(vec1,vec2T)\n",
    "                distancesNoTemplateData[param1].append([dist,param2])\n",
    "            except:\n",
    "                pass\n",
    "\n",
    "cNotFound = 0\n",
    "for param,words in distancesNoTemplateData.items():\n",
    "    try:\n",
    "        if sorted(words)[0][0] < .4:\n",
    "            print(param,sorted(words)[0:3])\n",
    "        else:\n",
    "            cNotFound +=1\n",
    "    except:\n",
    "        pass\n",
    "print(cNotFound,'Without Mapping')"
   ]
  },
  {
   "cell_type": "markdown",
   "metadata": {},
   "source": [
    "## With Graph approach\n",
    "Notes:\n",
    "* Play with amount of candidates per language. By now, what works the best is to have few elements in the source lang and a lot in the target"
   ]
  },
  {
   "cell_type": "code",
   "execution_count": 51,
   "metadata": {},
   "outputs": [
    {
     "name": "stdout",
     "output_type": "stream",
     "text": [
      "['Plantilla:Ficha de película', 'Template:Infobox film']\n"
     ]
    }
   ],
   "source": [
    "import networkx as nx\n",
    "G= nx.Graph()\n",
    "exampleTemplate2 = 'Ficha de película'\n",
    "sourceLang2 ='es'\n",
    "targetLang2 = 'en'\n",
    "templatesTwoLang2 = getWikidataPair(['Plantilla:'+exampleTemplate2],sourceLang2,targetLang2)[0]\n",
    "\n",
    "\n",
    "distancesNoTemplateData = {}\n",
    "print(templatesTwoLang2)\n",
    "template1 = templates[templatesTwoLang2[0].split(':')[1]]\n",
    "#template1['params'] = sorted(template1['Params'].items(), key= lambda x: x[1],reverse=True)[:400]\n",
    "template1['params'] = [x for x in template1['Params'].items() if x[1]/len(template1['Params']) > .05] #appears at least X% of times\n",
    "template2 = templatesTarget[templatesTwoLang2[1].split(':')[1]]\n",
    "#template2['params'] = sorted(template2['Params'].items(), key= lambda x: x[1],reverse=True)[:400]\n",
    "template2['params'] = [x for x in template2['Params'].items() if x[1]/len(template2['Params']) > .05] #appears at least 1X of times\n",
    "\n",
    "\n",
    "transmat = np.loadtxt('fastText_multilingual/my_alingments/apply_in_en_to_es.txt')\n",
    "for param1,data1 in template1['params']:\n",
    "    try:\n",
    "        vec1 = myModel.get_sentence_vector(param1.strip().replace('_',' '))\n",
    "        distancesNoTemplateData[param1] = []\n",
    "    except: pass\n",
    "    for param2,data2 in template2['params']:\n",
    "            try:\n",
    "                vec2= myModel2.get_sentence_vector(param2.strip().replace('_',' '))\n",
    "                vec2T = apply_transform(vec2,transmat)\n",
    "                dist = distance.cosine(vec1,vec2T)\n",
    "                distancesNoTemplateData[param1].append([dist,param2])\n",
    "                if dist < .45:\n",
    "                    node1= '%s_%s' % (sourceLang2,param1)\n",
    "                    node2= '%s_%s' % (targetLang2,param2)\n",
    "\n",
    "                    G.add_edge(node1,node2)\n",
    "                    G[node1][node2]['w'] = dist\n",
    "            except:\n",
    "                pass\n",
    "\n"
   ]
  },
  {
   "cell_type": "code",
   "execution_count": 52,
   "metadata": {},
   "outputs": [
    {
     "name": "stderr",
     "output_type": "stream",
     "text": [
      "/srv/home/dsaez/3.6/lib/python3.5/site-packages/networkx/drawing/nx_pylab.py:126: MatplotlibDeprecationWarning: pyplot.hold is deprecated.\n",
      "    Future behavior will be consistent with the long-time default:\n",
      "    plot commands add elements without first clearing the\n",
      "    Axes and/or Figure.\n",
      "  b = plt.ishold()\n",
      "/srv/home/dsaez/3.6/lib/python3.5/site-packages/networkx/drawing/nx_pylab.py:522: MatplotlibDeprecationWarning: The is_string_like function was deprecated in version 2.1.\n",
      "  if not cb.is_string_like(edge_color) \\\n",
      "/srv/home/dsaez/3.6/lib/python3.5/site-packages/networkx/drawing/nx_pylab.py:543: MatplotlibDeprecationWarning: The is_string_like function was deprecated in version 2.1.\n",
      "  if cb.is_string_like(edge_color) or len(edge_color) == 1:\n",
      "/srv/home/dsaez/3.6/lib/python3.5/site-packages/networkx/drawing/nx_pylab.py:724: MatplotlibDeprecationWarning: The is_string_like function was deprecated in version 2.1.\n",
      "  if not cb.is_string_like(label):\n",
      "/srv/home/dsaez/3.6/lib/python3.5/site-packages/networkx/drawing/nx_pylab.py:138: MatplotlibDeprecationWarning: pyplot.hold is deprecated.\n",
      "    Future behavior will be consistent with the long-time default:\n",
      "    plot commands add elements without first clearing the\n",
      "    Axes and/or Figure.\n",
      "  plt.hold(b)\n",
      "/srv/home/dsaez/3.6/lib/python3.5/site-packages/matplotlib/__init__.py:805: MatplotlibDeprecationWarning: axes.hold is deprecated. Please remove it from your matplotlibrc and/or style files.\n",
      "  mplDeprecation)\n",
      "/srv/home/dsaez/3.6/lib/python3.5/site-packages/matplotlib/rcsetup.py:155: MatplotlibDeprecationWarning: axes.hold is deprecated, will be removed in 3.0\n",
      "  mplDeprecation)\n"
     ]
    },
    {
     "data": {
      "image/png": "[encoded data removed]",
      "text/plain": [
       "<matplotlib.figure.Figure at 0x7f4f59effeb8>"
      ]
     },
     "metadata": {},
     "output_type": "display_data"
    }
   ],
   "source": [
    "%matplotlib inline\n",
    "\n",
    "nx.draw(G,with_labels=True)\n"
   ]
  },
  {
   "cell_type": "code",
   "execution_count": 53,
   "metadata": {
    "scrolled": true
   },
   "outputs": [
    {
     "name": "stdout",
     "output_type": "stream",
     "text": [
      "producer -> productor\n",
      "music -> música\n",
      "director -> director\n",
      "production -> producción\n",
      "awards -> premios\n",
      "screenplay -> guion\n",
      "language -> idioma\n",
      "country -> país\n",
      "preceded by -> precedida_por\n",
      "preceded_by -> sucedida_por\n",
      "narrator -> narrador\n",
      "name -> nombre\n",
      "website -> página web\n",
      "distributor -> distribuidora\n",
      "budget -> presupuesto\n",
      "sound -> sonido\n",
      "image size -> tamaño imagen\n",
      "executive producer -> producción ejecutiva\n",
      "production company -> diseño producción\n",
      "production companies -> diseño de producción\n",
      "image -> imagen\n",
      "photographer -> fotografía\n",
      "imdb_rating -> imdb\n",
      "producers -> productora\n",
      "animator -> animador\n",
      "distributors -> distribuidor\n",
      "cinematography -> cinematografía\n",
      "based on -> basado en\n",
      "amg_id -> amg_id\n",
      "associate director -> ayudante dirección\n",
      "image_size -> tamaño\n",
      "based_on -> basada en\n",
      "script -> guión\n",
      "image  caption -> nombre imagen\n",
      "0.3695652173913043\n"
     ]
    }
   ],
   "source": [
    "c = 0\n",
    "while G.edges():\n",
    "    p = sorted(G.edges(data=True), key=lambda x: x[2]['w'])[0]\n",
    "    psorted = sorted(list(p[:2]))\n",
    "    print(psorted[0][3:],'->',psorted[1][3:])\n",
    "    G.remove_node(p[0])\n",
    "    G.remove_node(p[1])\n",
    "    c+=1\n",
    "print(c/len(template1['params']))"
   ]
  },
  {
   "cell_type": "markdown",
   "metadata": {},
   "source": [
    "#### Download top 100 templates in 'es' to 'en"
   ]
  },
  {
   "cell_type": "code",
   "execution_count": 63,
   "metadata": {
    "scrolled": true
   },
   "outputs": [
    {
     "name": "stdout",
     "output_type": "stream",
     "text": [
      "['Plantilla:Listaref', 'Template:Reflist']\n",
      "Listaref ======================\n",
      "['Plantilla:Cita web', 'Template:Cite web']\n",
      "Cita web ======================\n",
      "['Plantilla:Ficha de taxón', 'Template:Taxobox']\n",
      "Ficha de taxón ======================\n",
      "['Plantilla:Cita libro', 'Template:Cite book']\n",
      "Cita libro ======================\n",
      "['Plantilla:Ficha de deportista', 'Template:Infobox sportsperson']\n",
      "Ficha de deportista ======================\n",
      "['Plantilla:Cita publicación', 'Template:Cite journal']\n",
      "Cita publicación ======================\n",
      "['Plantilla:Cita noticia', 'Template:Cite news']\n",
      "Cita noticia ======================\n",
      "['Plantilla:Ficha de persona', 'Template:Infobox person']\n",
      "Ficha de persona ======================\n",
      "['Plantilla:Coord', 'Template:Coord']\n",
      "Coord ======================\n",
      "['Plantilla:Referencias', 'Template:Unreferenced']\n",
      "Referencias ======================\n",
      "['Plantilla:Commonscat', 'Template:Commons category']\n",
      "Commonscat ======================\n",
      "['Plantilla:Enlace roto', 'Template:Dead link']\n",
      "Enlace roto ======================\n",
      "['Plantilla:Sucesión', 'Template:State detail page browse']\n",
      "Sucesión ======================\n",
      "['Plantilla:Altura', 'Template:Height']\n",
      "Altura ======================\n",
      "['Plantilla:Evolución demográfica', 'Template:Demography']\n",
      "Evolución demográfica ======================\n",
      "['Plantilla:Ficha de artista musical', 'Template:Infobox musical artist']\n",
      "Ficha de artista musical ======================\n",
      "['Plantilla:Control de autoridades', 'Template:Authority control']\n",
      "Control de autoridades ======================\n",
      "['Plantilla:Ficha de álbum', 'Template:Infobox album']\n",
      "Ficha de álbum ======================\n",
      "['Plantilla:Wikispecies', 'Template:Wikispecies']\n",
      "Wikispecies ======================\n",
      "['Plantilla:Gráfica de evolución', 'Template:Vertical bar chart']\n",
      "Gráfica de evolución ======================\n",
      "['Plantilla:Ficha de película', 'Template:Infobox film']\n",
      "Ficha de película ======================\n",
      "['Plantilla:Ficha de autoridad', 'Template:Infobox officeholder']\n",
      "Ficha de autoridad ======================\n",
      "['Plantilla:!', 'Template:!']\n",
      "! ======================\n",
      "['Plantilla:En', 'Template:En icon']\n",
      "En ======================\n",
      "['Plantilla:Bandera', 'Template:Flagdeco']\n",
      "Bandera ======================\n",
      "['Plantilla:Lista de canciones', 'Template:Track listing']\n",
      "Lista de canciones ======================\n",
      "['Plantilla:Ficha de organización', 'Template:Infobox organization']\n",
      "Ficha de organización ======================\n",
      "['Plantilla:Harvnp', 'Template:Sfn']\n",
      "Harvnp ======================\n"
     ]
    },
    {
     "name": "stderr",
     "output_type": "stream",
     "text": [
      "/srv/home/dsaez/3.6/lib/python3.5/site-packages/scipy/spatial/distance.py:505: RuntimeWarning: invalid value encountered in double_scalars\n",
      "  dist = 1.0 - np.dot(u, v) / (norm(u) * norm(v))\n"
     ]
    },
    {
     "name": "stdout",
     "output_type": "stream",
     "text": [
      "['Plantilla:Cita requerida', 'Template:Citation needed']\n",
      "Cita requerida ======================\n",
      "['Plantilla:Ficha de estación', 'Template:Infobox station']\n",
      "Ficha de estación ======================\n",
      "['Plantilla:Ficha de cuerpo de agua', 'Template:Infobox body of water']\n",
      "Ficha de cuerpo de agua ======================\n"
     ]
    }
   ],
   "source": [
    "import networkx as nx\n",
    "G= nx.Graph()\n",
    "output = {}\n",
    "transmat = np.loadtxt('fastText_multilingual/my_alingments/apply_in_en_to_es.txt')\n",
    "\n",
    "for exampleTemplate2 in  templateFreq[0:50]:\n",
    "    try:\n",
    "        exampleTemplate2 = exampleTemplate2[0]\n",
    "        sourceLang2 ='es'\n",
    "        targetLang2 = 'en'\n",
    "        templatesTwoLang2 = getWikidataPair(['Plantilla:'+exampleTemplate2],sourceLang2,targetLang2)[0]\n",
    "\n",
    "\n",
    "        distancesNoTemplateData = {}\n",
    "        print(templatesTwoLang2)\n",
    "        template1 = templates[templatesTwoLang2[0].split(':')[1]]\n",
    "        #template1['params'] = sorted(template1['Params'].items(), key= lambda x: x[1],reverse=True)[:400]\n",
    "        template1['params'] = [x for x in template1['Params'].items() if x[1]/len(template1['Params']) > .3] #appears at least X% of times\n",
    "        template2 = templatesTarget[templatesTwoLang2[1].split(':')[1]]\n",
    "        #template2['params'] = sorted(template2['Params'].items(), key= lambda x: x[1],reverse=True)[:400]\n",
    "        template2['params'] = [x for x in template2['Params'].items() if x[1]/len(template2['Params']) > .05] #appears at least 1X of times\n",
    "\n",
    "\n",
    "        for param1,data1 in template1['params']:\n",
    "            try:\n",
    "                vec1 = myModel.get_sentence_vector(param1.strip().replace('_',' '))\n",
    "                distancesNoTemplateData[param1] = []\n",
    "            except: pass\n",
    "            for param2,data2 in template2['params']:\n",
    "                    try:\n",
    "                        vec2= myModel2.get_sentence_vector(param2.strip().replace('_',' '))\n",
    "                        vec2T = apply_transform(vec2,transmat)\n",
    "                        dist = distance.cosine(vec1,vec2T)\n",
    "                        distancesNoTemplateData[param1].append([dist,param2])\n",
    "                        if dist < .45:\n",
    "                            node1= '%s_%s' % (sourceLang2,param1)\n",
    "                            node2= '%s_%s' % (targetLang2,param2)\n",
    "                            G.add_edge(node1,node2)\n",
    "                            G[node1][node2]['w'] = dist\n",
    "                    except:\n",
    "                        pass    \n",
    "        output[exampleTemplate2] = []\n",
    "        print(exampleTemplate2,'======================')\n",
    "        while G.edges():\n",
    "            p = sorted(G.edges(data=True), key=lambda x: x[2]['w'])[0]\n",
    "            psorted = sorted(list(p[:2]))       \n",
    "            \n",
    "            output[exampleTemplate2].append({psorted[0][:2]:psorted[0][3:],\n",
    "                                            psorted[1][:2]:psorted[1][3:],\n",
    "                                            'd':p[2]['w']})\n",
    "            G.remove_node(p[0])\n",
    "            G.remove_node(p[1])\n",
    "\n",
    "    except:\n",
    "        pass"
   ]
  },
  {
   "cell_type": "code",
   "execution_count": 64,
   "metadata": {},
   "outputs": [],
   "source": [
    "with open('templatesEsEN-top100.json','w') as o:\n",
    "    json.dump(output,o)"
   ]
  },
  {
   "cell_type": "markdown",
   "metadata": {},
   "source": [
    "## Value based - In progress"
   ]
  },
  {
   "cell_type": "code",
   "execution_count": 551,
   "metadata": {},
   "outputs": [
    {
     "name": "stdout",
     "output_type": "stream",
     "text": [
      "['Plantilla:Ficha de persona', 'Template:Infobox person']\n"
     ]
    },
    {
     "name": "stderr",
     "output_type": "stream",
     "text": [
      "/srv/home/dsaez/3.6/lib/python3.5/site-packages/scipy/spatial/distance.py:505: RuntimeWarning: invalid value encountered in double_scalars\n",
      "  dist = 1.0 - np.dot(u, v) / (norm(u) * norm(v))\n"
     ]
    }
   ],
   "source": [
    "import networkx as nx\n",
    "G= nx.Graph()\n",
    "exampleTemplate2 = 'Ficha de persona'\n",
    "sourceLang2 ='es'\n",
    "targetLang2 = 'en'\n",
    "templatesTwoLang2 = getWikidataPair(['Plantilla:'+exampleTemplate2],sourceLang2,targetLang2)[0]\n",
    "\n",
    "import random\n",
    "random.seed(1)\n",
    "pagesSource = random.sample(templates[exampleTemplate2][\"Tpages\"],50)\n",
    "pagesPairs = getWikidataPair(pagesSource,sourceLang,targetLang)\n",
    "templatesPairsPerPage = {}\n",
    "for pages in pagesPairs:\n",
    "    templateSource = [(name,data) for name,data in  extract_templates(getContent(pages[0],sourceLang)).items() if name.lower() in templatesTwoLang[0].lower()] \n",
    "    templateTarget = [(name,data) for name,data in  extract_templates(getContent(pages[1],targetLang)).items() if name.lower() in templatesTwoLang[1].lower()] \n",
    "    if templateSource:\n",
    "        if templateTarget:\n",
    "            templatesPairsPerPage[pages[0]] = templatesPairsPerPage.get(pages[0],[])\n",
    "\n",
    "            templatesPairsPerPage[pages[0]].append((templateSource,templateTarget))\n",
    "            \n",
    "            \n",
    "\n",
    "\n",
    "transmat = np.loadtxt('fastText_multilingual/my_alingments/apply_in_en_to_es.txt')\n",
    "\n",
    "for pages, data in templatesPairsPerPage.items():\n",
    "    pageSourceLang = data[0][0][0][1]\n",
    "    pageTargetLang = data[0][1][0][1]\n",
    "    for param1,value in pageSourceLang.items():\n",
    "        try:\n",
    "            vec1 = myModel.get_sentence_vector(value.strip())\n",
    "            distancesNoTemplateData[param1] = []\n",
    "            for param2,value2 in pageTargetLang.items():\n",
    "                    vec2= myModel2.get_sentence_vector(value2.strip())\n",
    "                    vec2T = apply_transform(vec2,transmat)\n",
    "                    dist = distance.cosine(vec1,vec2T)\n",
    "                    distancesNoTemplateData[param1].append([dist,param2])\n",
    "        except:\n",
    "            pass\n"
   ]
  },
  {
   "cell_type": "code",
   "execution_count": 556,
   "metadata": {},
   "outputs": [
    {
     "name": "stdout",
     "output_type": "stream",
     "text": [
      "tiempo [[0.8237192646115215, 'years_active'], [0.8297616419425919, 'name'], [0.8372941016593429, 'children']]\n",
      "pie de imagen [[0.595959560523716, 'image'], [0.6550599889689077, 'other_names'], [0.7264075447081769, 'movement']]\n",
      "nombre [[0.4041053071307944, 'image'], [0.518457326659189, 'other_names'], [0.7447650042056859, 'citizenship']]\n",
      "nacionalidad [[0.6498525538332381, 'death_date'], [0.6839225568797711, 'death_place'], [0.6960114454594034, 'birth_place']]\n",
      "alma máter [[0.6260514271654607, 'image'], [0.6876603840579052, 'other_names'], [0.6956217498859136, 'movement']]\n",
      "tamaño [[0.6252674964760204, 'death_date'], [0.6543020957305372, 'birth_date'], [0.6881550150885685, 'alma_mater']]\n",
      "lugar de nacimiento [[0.6006641143067445, 'movement'], [0.651721071660169, 'citizenship'], [0.749902622171667, 'image']]\n",
      "website [[0.14517355546728405, 'website'], [0.33303012814333954, 'residence'], [0.4358272801220364, 'caption']]\n",
      "nombre de nacimiento [[0.5268444887815582, 'image'], [0.561234729287486, 'other_names'], [0.7458845651968874, 'citizenship']]\n",
      "fecha de fallecimiento [[0.405637195020605, 'death_date'], [0.5586009123247648, 'birth_date'], [0.5769374843869859, 'birth_place']]\n",
      "seudónimo [[0.3431979248660232, 'other_names'], [0.5191122790661059, 'image'], [0.7383798853791346, 'movement']]\n",
      "imagen [[0.4066104016008, 'image'], [0.5735632346552102, 'other_names'], [0.7130810176711444, 'citizenship']]\n",
      "lugar de fallecimiento [[0.4353487507509327, 'death_date'], [0.4372675858983963, 'birth_date'], [0.4903421781752545, 'birth_place']]\n",
      "ocupación [[0.6054499455608767, 'image'], [0.6647989597977009, 'movement'], [0.6799747139150318, 'other_names']]\n",
      "residencia [[0.6862214922582682, 'citizenship'], [0.7706700544198648, 'image'], [0.78425004764957, 'movement']]\n",
      "relacionados [[0.5925765268114909, 'image'], [0.5988486690224618, 'name'], [0.6005501826684927, 'caption']]\n",
      "medio de comunicación [[0.6175320186849692, 'image'], [0.6475602640619512, 'other_names'], [0.7843196163492381, 'movement']]\n",
      "conocido por [[0.37402284024828025, 'known_for'], [0.5769164000381919, 'caption'], [0.6158629193219431, 'residence']]\n",
      "abreviatura en zoología [[0.5300942275088152, 'parents'], [nan, 'style'], [0.7068505382194628, 'death_place']]\n",
      "fecha de nacimiento [[0.7068943512676559, 'movement'], [0.7435227743074442, 'image'], [0.7604446107799168, 'citizenship']]\n"
     ]
    }
   ],
   "source": [
    "cNotFound = 0\n",
    "for param,words in distancesNoTemplateData.items():\n",
    "    try:\n",
    "        if sorted(words)[0][0] < .9:\n",
    "            print(param,sorted(words)[0:3])\n",
    "        else:\n",
    "            cNotFound +=1\n",
    "    except:\n",
    "        pass"
   ]
  },
  {
   "cell_type": "code",
   "execution_count": null,
   "metadata": {},
   "outputs": [],
   "source": []
  }
 ],
 "metadata": {
  "kernelspec": {
   "display_name": "Python 3",
   "language": "python",
   "name": "python3"
  },
  "language_info": {
   "codemirror_mode": {
    "name": "ipython",
    "version": 3
   },
   "file_extension": ".py",
   "mimetype": "text/x-python",
   "name": "python",
   "nbconvert_exporter": "python",
   "pygments_lexer": "ipython3",
   "version": "3.5.3"
  }
 },
 "nbformat": 4,
 "nbformat_minor": 2
}
