{
 "cells": [
  {
   "cell_type": "markdown",
   "metadata": {},
   "source": [
    "## Retrieve Named Template from Dumps"
   ]
  },
  {
   "cell_type": "code",
   "execution_count": null,
   "metadata": {},
   "outputs": [
    {
     "name": "stdout",
     "output_type": "stream",
     "text": [
      "ru\n",
      "['../../dumps/ruwiki/latest/ruwiki-latest-pages-meta-current4.xml-p1938396p3398621.bz2', '../../dumps/ruwiki/latest/ruwiki-latest-pages-meta-current1.xml-p4p204179.bz2', '../../dumps/ruwiki/latest/ruwiki-latest-pages-meta-current2.xml-p204181p917514.bz2', '../../dumps/ruwiki/latest/ruwiki-latest-pages-meta-current6.xml-p6969719p7875643.bz2', '../../dumps/ruwiki/latest/ruwiki-latest-pages-meta-current6.xml-p5469719p6969719.bz2', '../../dumps/ruwiki/latest/ruwiki-latest-pages-meta-current6.xml-p6969719p7863203.bz2', '../../dumps/ruwiki/latest/ruwiki-latest-pages-meta-current3.xml-p917515p1938394.bz2', '../../dumps/ruwiki/latest/ruwiki-latest-pages-meta-current5.xml-p3398622p4898622.bz2', '../../dumps/ruwiki/latest/ruwiki-latest-pages-meta-current5.xml-p4898622p5469718.bz2'] here\n"
     ]
    }
   ],
   "source": [
    "#call parser\n",
    "import mwxml\n",
    "import glob\n",
    "import re\n",
    "import json\n",
    "import sys\n",
    "import pandas as pd\n",
    "import mwparserfromhell\n",
    "\n",
    "#config\n",
    "dumpDate = 'latest'\n",
    "#langs = ['es','ca','en'] #wiki\n",
    "langs = ['ru']\n",
    "\n",
    "templates_RE = re.compile(r'{{(.+?)}}')\n",
    "\n",
    "def extract_templates(text):\n",
    "    wikicode = mwparserfromhell.parse(text)\n",
    "    tmpdict = {}\n",
    "    for template in wikicode.filter_templates():\n",
    "        if template.params:\n",
    "            values = dict([[t.name.strip(),t.value.strip()] for t in template.params if t.showkey])\n",
    "            if values:\n",
    "                tmpdict[template.name.strip()] = values\n",
    "    yield tmpdict\n",
    "\n",
    "def process_dump(dump, path):\n",
    "    for page in dump:\n",
    "        try:\n",
    "            if int(page.namespace) == 0:  #if int(page.id) in pagesIds:\n",
    "                    for revision in page: pass #pass all , go to the last revision\n",
    "                    text =  revision.text\n",
    "                    templates = list(extract_templates(text))[0] #I apply 'list' for 'expand' the generator object create by yield, for sure there is something better\n",
    "                    if templates:\n",
    "                        yield page.id,page.title,templates\n",
    "        except:\n",
    "            pass\n",
    "\n",
    "\n",
    "\n",
    "for lang in langs:\n",
    "    print(lang)\n",
    "    paths = glob.glob('../../dumps/%swiki/%s/%swiki-%s-pages-meta-current*.xml*.bz2' % (lang,dumpDate,lang,dumpDate))\n",
    "    if len(paths) > 1: #remove the single file when have, keep it for small wikis that came all togheter in one file\n",
    "        paths.remove('../../dumps/%swiki/%s/%swiki-%s-pages-meta-current.xml.bz2' % (lang,dumpDate,lang,dumpDate))\n",
    "    print(paths,'here')\n",
    "    f = open('templates-articles_%s.json' % lang,'w')\n",
    "\n",
    "    for result in mwxml.map(process_dump, paths, threads = 168):\n",
    "        if result:\n",
    "            f.write(json.dumps(result))\n",
    "            f.write('\\n')\n",
    "\n",
    "            #print(result)\n",
    "    f.close()"
   ]
  },
  {
   "cell_type": "markdown",
   "metadata": {},
   "source": [
    "### Summarize templates"
   ]
  },
  {
   "cell_type": "code",
   "execution_count": 19,
   "metadata": {},
   "outputs": [],
   "source": [
    "import json\n",
    "def summarizeTemplate(lang):\n",
    "    f = open('templates-articles_%s.json' % lang)\n",
    "    templates = {}\n",
    "    params = {}\n",
    "    for l in f:\n",
    "        tmp = json.loads(l)\n",
    "        page = tmp[1]\n",
    "        for template,param in tmp[2].items():\n",
    "            template = template.capitalize()\n",
    "            templates[template] = templates.get(template,{'Tcount':0,'Tpages':[],'Params':{}})\n",
    "            templates[template]['Tcount'] += 1\n",
    "            templates[template]['Tpages'].append(page)\n",
    "            for name,val in param.items():\n",
    "                name = name.lower()\n",
    "                templates[template]['Params'][name] =templates[template]['Params'].get(name,0)\n",
    "                templates[template]['Params'][name] +=1\n",
    "                params[name] = params.get(name,0)\n",
    "                params[name] += 1\n",
    "    f.close()\n",
    "    with open('templates-summary_%s.json' % lang,'w') as f:\n",
    "        json.dump(templates,f)"
   ]
  },
  {
   "cell_type": "code",
   "execution_count": null,
   "metadata": {},
   "outputs": [],
   "source": [
    "for l in langs:\n",
    "    print(l)\n",
    "    summarizeTemplate(l)"
   ]
  },
  {
   "cell_type": "code",
   "execution_count": null,
   "metadata": {},
   "outputs": [],
   "source": []
  }
 ],
 "metadata": {
  "kernelspec": {
   "display_name": "Python 3",
   "language": "python",
   "name": "python3"
  },
  "language_info": {
   "codemirror_mode": {
    "name": "ipython",
    "version": 3
   },
   "file_extension": ".py",
   "mimetype": "text/x-python",
   "name": "python",
   "nbconvert_exporter": "python",
   "pygments_lexer": "ipython3",
   "version": "3.5.3"
  }
 },
 "nbformat": 4,
 "nbformat_minor": 2
}
